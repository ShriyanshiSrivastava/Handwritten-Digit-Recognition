{
 "cells": [
  {
   "cell_type": "code",
   "execution_count": 1,
   "id": "f823e39d",
   "metadata": {
    "_cell_guid": "b1076dfc-b9ad-4769-8c92-a6c4dae69d19",
    "_uuid": "8f2839f25d086af736a60e9eeb907d3b93b6e0e5",
    "execution": {
     "iopub.execute_input": "2021-11-28T15:23:38.503980Z",
     "iopub.status.busy": "2021-11-28T15:23:38.501881Z",
     "iopub.status.idle": "2021-11-28T15:23:38.515123Z",
     "shell.execute_reply": "2021-11-28T15:23:38.515768Z",
     "shell.execute_reply.started": "2021-11-28T15:21:10.473343Z"
    },
    "papermill": {
     "duration": 0.03401,
     "end_time": "2021-11-28T15:23:38.516037",
     "exception": false,
     "start_time": "2021-11-28T15:23:38.482027",
     "status": "completed"
    },
    "tags": []
   },
   "outputs": [],
   "source": [
    "# This Python 3 environment comes with many helpful analytics libraries installed\n",
    "# It is defined by the kaggle/python Docker image: https://github.com/kaggle/docker-python\n",
    "# For example, here's several helpful packages to load\n",
    "\n",
    "import numpy as np # linear algebra\n",
    "import pandas as pd # data processing, CSV file I/O (e.g. pd.read_csv)\n",
    "\n",
    "# Input data files are available in the read-only \"../input/\" directory\n",
    "# For example, running this (by clicking run or pressing Shift+Enter) will list all files under the input directory\n",
    "\n",
    "import os\n",
    "for dirname, _, filenames in os.walk('/kaggle/input'):\n",
    "    for filename in filenames:\n",
    "        print(os.path.join(dirname, filename))\n",
    "\n",
    "# You can write up to 20GB to the current directory (/kaggle/working/) that gets preserved as output when you create a version using \"Save & Run All\" \n",
    "# You can also write temporary files to /kaggle/temp/, but they won't be saved outside of the current session"
   ]
  },
  {
   "cell_type": "code",
   "execution_count": 2,
   "id": "d5778d7c",
   "metadata": {
    "execution": {
     "iopub.execute_input": "2021-11-28T15:23:38.544104Z",
     "iopub.status.busy": "2021-11-28T15:23:38.543030Z",
     "iopub.status.idle": "2021-11-28T15:23:44.654237Z",
     "shell.execute_reply": "2021-11-28T15:23:44.653141Z",
     "shell.execute_reply.started": "2021-11-28T15:21:10.480875Z"
    },
    "papermill": {
     "duration": 6.124881,
     "end_time": "2021-11-28T15:23:44.654427",
     "exception": false,
     "start_time": "2021-11-28T15:23:38.529546",
     "status": "completed"
    },
    "tags": []
   },
   "outputs": [],
   "source": [
    "#importing several required packages\n",
    "import numpy as np\n",
    "import pandas as pd \n",
    "import seaborn as sns\n",
    "import tensorflow as tf\n",
    "import keras\n",
    "from keras.datasets import mnist\n",
    "from keras.models import Sequential\n",
    "from keras.layers import Dense, Dropout, Flatten\n",
    "from keras.layers import Conv2D, MaxPooling2D\n",
    "from keras import backend as K\n",
    "\n",
    "from keras import utils as np_utils\n",
    "from keras import optimizers"
   ]
  },
  {
   "cell_type": "code",
   "execution_count": 3,
   "id": "4d4285de",
   "metadata": {
    "execution": {
     "iopub.execute_input": "2021-11-28T15:23:44.683593Z",
     "iopub.status.busy": "2021-11-28T15:23:44.682479Z",
     "iopub.status.idle": "2021-11-28T15:23:45.654367Z",
     "shell.execute_reply": "2021-11-28T15:23:45.653389Z",
     "shell.execute_reply.started": "2021-11-28T15:21:10.495918Z"
    },
    "papermill": {
     "duration": 0.988306,
     "end_time": "2021-11-28T15:23:45.654593",
     "exception": false,
     "start_time": "2021-11-28T15:23:44.666287",
     "status": "completed"
    },
    "tags": []
   },
   "outputs": [
    {
     "name": "stdout",
     "output_type": "stream",
     "text": [
      "Downloading data from https://storage.googleapis.com/tensorflow/tf-keras-datasets/mnist.npz\n",
      "11493376/11490434 [==============================] - 0s 0us/step\n",
      "11501568/11490434 [==============================] - 0s 0us/step\n",
      "Dataset successfully loaded!!!\n",
      "(60000, 28, 28) (60000,)\n"
     ]
    }
   ],
   "source": [
    "#splitting the dataset\n",
    "(x_train, y_train), (x_test, y_test) = tf.keras.datasets.mnist.load_data()\n",
    "print(\"Dataset successfully loaded!!!\")\n",
    "print(x_train.shape, y_train.shape)"
   ]
  },
  {
   "cell_type": "code",
   "execution_count": 4,
   "id": "588038e1",
   "metadata": {
    "execution": {
     "iopub.execute_input": "2021-11-28T15:23:45.707454Z",
     "iopub.status.busy": "2021-11-28T15:23:45.706633Z",
     "iopub.status.idle": "2021-11-28T15:23:45.952414Z",
     "shell.execute_reply": "2021-11-28T15:23:45.951530Z",
     "shell.execute_reply.started": "2021-11-28T15:21:10.777604Z"
    },
    "papermill": {
     "duration": 0.283228,
     "end_time": "2021-11-28T15:23:45.952598",
     "exception": false,
     "start_time": "2021-11-28T15:23:45.669370",
     "status": "completed"
    },
    "tags": []
   },
   "outputs": [
    {
     "name": "stdout",
     "output_type": "stream",
     "text": [
      "8\n"
     ]
    },
    {
     "data": {
      "text/plain": [
       "<matplotlib.image.AxesImage at 0x7ff46bae7e10>"
      ]
     },
     "execution_count": 4,
     "metadata": {},
     "output_type": "execute_result"
    },
    {
     "data": {
      "image/png": "[encoded data removed]",
      "text/plain": [
       "<Figure size 432x288 with 1 Axes>"
      ]
     },
     "metadata": {
      "needs_background": "light"
     },
     "output_type": "display_data"
    }
   ],
   "source": [
    "\n",
    "import matplotlib.pyplot as plt\n",
    "image_index = 7777 \n",
    "print(y_train[image_index]) \n",
    "plt.imshow(x_train[image_index], cmap='Greys')"
   ]
  },
  {
   "cell_type": "code",
   "execution_count": 5,
   "id": "bdd4ef8d",
   "metadata": {
    "execution": {
     "iopub.execute_input": "2021-11-28T15:23:45.988767Z",
     "iopub.status.busy": "2021-11-28T15:23:45.987772Z",
     "iopub.status.idle": "2021-11-28T15:23:45.991162Z",
     "shell.execute_reply": "2021-11-28T15:23:45.990640Z",
     "shell.execute_reply.started": "2021-11-28T15:21:10.973036Z"
    },
    "papermill": {
     "duration": 0.02338,
     "end_time": "2021-11-28T15:23:45.991285",
     "exception": false,
     "start_time": "2021-11-28T15:23:45.967905",
     "status": "completed"
    },
    "tags": []
   },
   "outputs": [],
   "source": [
    "x_train = x_train.reshape(x_train.shape[0], 28, 28, 1)\n",
    "x_test = x_test.reshape(x_test.shape[0], 28, 28, 1)\n",
    "input_shape = (28, 28, 1)"
   ]
  },
  {
   "cell_type": "code",
   "execution_count": 6,
   "id": "63e2732c",
   "metadata": {
    "execution": {
     "iopub.execute_input": "2021-11-28T15:23:46.028498Z",
     "iopub.status.busy": "2021-11-28T15:23:46.027135Z",
     "iopub.status.idle": "2021-11-28T15:23:46.132700Z",
     "shell.execute_reply": "2021-11-28T15:23:46.132103Z",
     "shell.execute_reply.started": "2021-11-28T15:21:10.979576Z"
    },
    "papermill": {
     "duration": 0.126846,
     "end_time": "2021-11-28T15:23:46.132855",
     "exception": false,
     "start_time": "2021-11-28T15:23:46.006009",
     "status": "completed"
    },
    "tags": []
   },
   "outputs": [
    {
     "name": "stdout",
     "output_type": "stream",
     "text": [
      "x_train shape: (60000, 28, 28, 1)\n",
      "60000  - Train samples\n",
      "10000  - Test samples\n"
     ]
    }
   ],
   "source": [
    "x_train = x_train.astype('float32')\n",
    "x_test = x_test.astype('float32')\n",
    "x_train /= 255\n",
    "x_test /= 255\n",
    "print('x_train shape:', x_train.shape)\n",
    "print(x_train.shape[0], ' - Train samples')\n",
    "print(x_test.shape[0], ' - Test samples')"
   ]
  },
  {
   "cell_type": "code",
   "execution_count": 7,
   "id": "634dd41d",
   "metadata": {
    "execution": {
     "iopub.execute_input": "2021-11-28T15:23:46.169420Z",
     "iopub.status.busy": "2021-11-28T15:23:46.168395Z",
     "iopub.status.idle": "2021-11-28T15:23:46.171831Z",
     "shell.execute_reply": "2021-11-28T15:23:46.171163Z",
     "shell.execute_reply.started": "2021-11-28T15:21:11.061639Z"
    },
    "papermill": {
     "duration": 0.023087,
     "end_time": "2021-11-28T15:23:46.171978",
     "exception": false,
     "start_time": "2021-11-28T15:23:46.148891",
     "status": "completed"
    },
    "tags": []
   },
   "outputs": [],
   "source": [
    "batch_size = 128\n",
    "num_classes = 10\n",
    "epochs = 10"
   ]
  },
  {
   "cell_type": "code",
   "execution_count": 8,
   "id": "020ec473",
   "metadata": {
    "execution": {
     "iopub.execute_input": "2021-11-28T15:23:46.213368Z",
     "iopub.status.busy": "2021-11-28T15:23:46.212675Z",
     "iopub.status.idle": "2021-11-28T15:23:49.361184Z",
     "shell.execute_reply": "2021-11-28T15:23:49.361797Z",
     "shell.execute_reply.started": "2021-11-28T15:21:11.067321Z"
    },
    "papermill": {
     "duration": 3.174209,
     "end_time": "2021-11-28T15:23:49.362000",
     "exception": false,
     "start_time": "2021-11-28T15:23:46.187791",
     "status": "completed"
    },
    "tags": []
   },
   "outputs": [
    {
     "name": "stderr",
     "output_type": "stream",
     "text": [
      "2021-11-28 15:23:46.444883: I tensorflow/stream_executor/cuda/cuda_gpu_executor.cc:937] successful NUMA node read from SysFS had negative value (-1), but there must be at least one NUMA node, so returning NUMA node zero\n",
      "2021-11-28 15:23:46.586604: I tensorflow/stream_executor/cuda/cuda_gpu_executor.cc:937] successful NUMA node read from SysFS had negative value (-1), but there must be at least one NUMA node, so returning NUMA node zero\n",
      "2021-11-28 15:23:46.587619: I tensorflow/stream_executor/cuda/cuda_gpu_executor.cc:937] successful NUMA node read from SysFS had negative value (-1), but there must be at least one NUMA node, so returning NUMA node zero\n",
      "2021-11-28 15:23:46.589139: I tensorflow/core/platform/cpu_feature_guard.cc:142] This TensorFlow binary is optimized with oneAPI Deep Neural Network Library (oneDNN) to use the following CPU instructions in performance-critical operations:  AVX2 FMA\n",
      "To enable them in other operations, rebuild TensorFlow with the appropriate compiler flags.\n",
      "2021-11-28 15:23:46.590310: I tensorflow/stream_executor/cuda/cuda_gpu_executor.cc:937] successful NUMA node read from SysFS had negative value (-1), but there must be at least one NUMA node, so returning NUMA node zero\n",
      "2021-11-28 15:23:46.591543: I tensorflow/stream_executor/cuda/cuda_gpu_executor.cc:937] successful NUMA node read from SysFS had negative value (-1), but there must be at least one NUMA node, so returning NUMA node zero\n",
      "2021-11-28 15:23:46.592704: I tensorflow/stream_executor/cuda/cuda_gpu_executor.cc:937] successful NUMA node read from SysFS had negative value (-1), but there must be at least one NUMA node, so returning NUMA node zero\n",
      "2021-11-28 15:23:48.883858: I tensorflow/stream_executor/cuda/cuda_gpu_executor.cc:937] successful NUMA node read from SysFS had negative value (-1), but there must be at least one NUMA node, so returning NUMA node zero\n",
      "2021-11-28 15:23:48.885004: I tensorflow/stream_executor/cuda/cuda_gpu_executor.cc:937] successful NUMA node read from SysFS had negative value (-1), but there must be at least one NUMA node, so returning NUMA node zero\n",
      "2021-11-28 15:23:48.886126: I tensorflow/stream_executor/cuda/cuda_gpu_executor.cc:937] successful NUMA node read from SysFS had negative value (-1), but there must be at least one NUMA node, so returning NUMA node zero\n",
      "2021-11-28 15:23:48.887014: I tensorflow/core/common_runtime/gpu/gpu_device.cc:1510] Created device /job:localhost/replica:0/task:0/device:GPU:0 with 15403 MB memory:  -> device: 0, name: Tesla P100-PCIE-16GB, pci bus id: 0000:00:04.0, compute capability: 6.0\n"
     ]
    }
   ],
   "source": [
    "model = Sequential()\n",
    "model.add(Conv2D(32, kernel_size=(5, 5),activation='relu',input_shape=input_shape))\n",
    "model.add(MaxPooling2D(pool_size=(2, 2)))\n",
    "model.add(Conv2D(64, (3, 3), activation=tf.nn.relu))\n",
    "model.add(MaxPooling2D(pool_size=(2, 2)))\n",
    "model.add(Conv2D(128, (3, 3), activation=tf.nn.relu))\n",
    "model.add(MaxPooling2D(pool_size=(2, 2)))\n",
    "model.add(Flatten())\n",
    "model.add(Dense(128, activation=tf.nn.relu))\n",
    "model.add(Dropout(0.2))\n",
    "model.add(Dense(64, activation=tf.nn.relu))\n",
    "model.add(Dropout(0.3))\n",
    "model.add(Dense(32, activation=tf.nn.relu))\n",
    "model.add(Dropout(0.5))\n",
    "model.add(Dense(num_classes, activation=tf.nn.softmax))"
   ]
  },
  {
   "cell_type": "code",
   "execution_count": 9,
   "id": "e042bc54",
   "metadata": {
    "execution": {
     "iopub.execute_input": "2021-11-28T15:23:49.405534Z",
     "iopub.status.busy": "2021-11-28T15:23:49.400735Z",
     "iopub.status.idle": "2021-11-28T15:24:31.766040Z",
     "shell.execute_reply": "2021-11-28T15:24:31.765158Z",
     "shell.execute_reply.started": "2021-11-28T15:21:11.149162Z"
    },
    "papermill": {
     "duration": 42.388001,
     "end_time": "2021-11-28T15:24:31.766250",
     "exception": false,
     "start_time": "2021-11-28T15:23:49.378249",
     "status": "completed"
    },
    "tags": []
   },
   "outputs": [
    {
     "name": "stderr",
     "output_type": "stream",
     "text": [
      "2021-11-28 15:23:49.804671: I tensorflow/compiler/mlir/mlir_graph_optimization_pass.cc:185] None of the MLIR Optimization Passes are enabled (registered 2)\n"
     ]
    },
    {
     "name": "stdout",
     "output_type": "stream",
     "text": [
      "Epoch 1/10\n"
     ]
    },
    {
     "name": "stderr",
     "output_type": "stream",
     "text": [
      "2021-11-28 15:23:51.696632: I tensorflow/stream_executor/cuda/cuda_dnn.cc:369] Loaded cuDNN version 8005\n"
     ]
    },
    {
     "name": "stdout",
     "output_type": "stream",
     "text": [
      "469/469 [==============================] - 10s 6ms/step - loss: 0.7050 - accuracy: 0.7691 - val_loss: 0.1048 - val_accuracy: 0.9739\n",
      "Epoch 2/10\n",
      "469/469 [==============================] - 3s 6ms/step - loss: 0.2150 - accuracy: 0.9438 - val_loss: 0.0770 - val_accuracy: 0.9820\n",
      "Epoch 3/10\n",
      "469/469 [==============================] - 3s 6ms/step - loss: 0.1527 - accuracy: 0.9605 - val_loss: 0.0560 - val_accuracy: 0.9879\n",
      "Epoch 4/10\n",
      "469/469 [==============================] - 3s 5ms/step - loss: 0.1239 - accuracy: 0.9675 - val_loss: 0.0643 - val_accuracy: 0.9859\n",
      "Epoch 5/10\n",
      "469/469 [==============================] - 3s 6ms/step - loss: 0.1063 - accuracy: 0.9720 - val_loss: 0.0577 - val_accuracy: 0.9884\n",
      "Epoch 6/10\n",
      "469/469 [==============================] - 3s 6ms/step - loss: 0.0974 - accuracy: 0.9752 - val_loss: 0.0598 - val_accuracy: 0.9870\n",
      "Epoch 7/10\n",
      "469/469 [==============================] - 3s 5ms/step - loss: 0.0929 - accuracy: 0.9755 - val_loss: 0.0553 - val_accuracy: 0.9895\n",
      "Epoch 8/10\n",
      "469/469 [==============================] - 3s 5ms/step - loss: 0.0815 - accuracy: 0.9778 - val_loss: 0.0541 - val_accuracy: 0.9888\n",
      "Epoch 9/10\n",
      "469/469 [==============================] - 3s 6ms/step - loss: 0.0719 - accuracy: 0.9798 - val_loss: 0.1008 - val_accuracy: 0.9807\n",
      "Epoch 10/10\n",
      "469/469 [==============================] - 3s 6ms/step - loss: 0.0669 - accuracy: 0.9814 - val_loss: 0.0477 - val_accuracy: 0.9914\n",
      "The model has successfully trained\n"
     ]
    }
   ],
   "source": [
    "model.compile(optimizer='adam', \n",
    "              loss='sparse_categorical_crossentropy', \n",
    "              metrics=['accuracy'])\n",
    "model.fit(x_train, y_train,batch_size=batch_size,epochs=epochs,verbose=1,validation_data=(x_test, y_test))\n",
    "print(\"The model has successfully trained\")"
   ]
  },
  {
   "cell_type": "code",
   "execution_count": 10,
   "id": "89deb372",
   "metadata": {
    "execution": {
     "iopub.execute_input": "2021-11-28T15:24:32.129239Z",
     "iopub.status.busy": "2021-11-28T15:24:32.127943Z",
     "iopub.status.idle": "2021-11-28T15:24:33.148823Z",
     "shell.execute_reply": "2021-11-28T15:24:33.149301Z",
     "shell.execute_reply.started": "2021-11-28T15:21:52.945927Z"
    },
    "papermill": {
     "duration": 1.205628,
     "end_time": "2021-11-28T15:24:33.149498",
     "exception": false,
     "start_time": "2021-11-28T15:24:31.943870",
     "status": "completed"
    },
    "tags": []
   },
   "outputs": [
    {
     "name": "stdout",
     "output_type": "stream",
     "text": [
      "313/313 [==============================] - 1s 3ms/step - loss: 0.0477 - accuracy: 0.9914\n",
      "Test loss: 0.04769239202141762\n",
      "Test accuracy: 0.9914000034332275\n"
     ]
    }
   ],
   "source": [
    "score = model.evaluate(x_test, y_test)\n",
    "print('Test loss:', score[0])\n",
    "print('Test accuracy:', score[1])"
   ]
  },
  {
   "cell_type": "code",
   "execution_count": 11,
   "id": "18973442",
   "metadata": {
    "execution": {
     "iopub.execute_input": "2021-11-28T15:24:33.578648Z",
     "iopub.status.busy": "2021-11-28T15:24:33.571388Z",
     "iopub.status.idle": "2021-11-28T15:24:33.633830Z",
     "shell.execute_reply": "2021-11-28T15:24:33.634513Z",
     "shell.execute_reply.started": "2021-11-28T15:21:54.278654Z"
    },
    "papermill": {
     "duration": 0.253877,
     "end_time": "2021-11-28T15:24:33.634705",
     "exception": false,
     "start_time": "2021-11-28T15:24:33.380828",
     "status": "completed"
    },
    "tags": []
   },
   "outputs": [
    {
     "name": "stdout",
     "output_type": "stream",
     "text": [
      "Saving the CNN model as model.h5\n"
     ]
    }
   ],
   "source": [
    "model.save('model.h5') \n",
    "print(\"Saving the CNN model as model.h5\")"
   ]
  },
  {
   "cell_type": "code",
   "execution_count": null,
   "id": "0b036dbc",
   "metadata": {
    "papermill": {
     "duration": 0.242252,
     "end_time": "2021-11-28T15:24:34.064587",
     "exception": false,
     "start_time": "2021-11-28T15:24:33.822335",
     "status": "completed"
    },
    "tags": []
   },
   "outputs": [],
   "source": []
  }
 ],
 "metadata": {
  "kernelspec": {
   "display_name": "Python 3",
   "language": "python",
   "name": "python3"
  },
  "language_info": {
   "codemirror_mode": {
    "name": "ipython",
    "version": 3
   },
   "file_extension": ".py",
   "mimetype": "text/x-python",
   "name": "python",
   "nbconvert_exporter": "python",
   "pygments_lexer": "ipython3",
   "version": "3.7.10"
  },
  "papermill": {
   "default_parameters": {},
   "duration": 68.830777,
   "end_time": "2021-11-28T15:24:37.496271",
   "environment_variables": {},
   "exception": null,
   "input_path": "__notebook__.ipynb",
   "output_path": "__notebook__.ipynb",
   "parameters": {},
   "start_time": "2021-11-28T15:23:28.665494",
   "version": "2.3.3"
  }
 },
 "nbformat": 4,
 "nbformat_minor": 5
}
